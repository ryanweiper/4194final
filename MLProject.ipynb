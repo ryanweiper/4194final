{
 "cells": [
  {
   "cell_type": "code",
   "execution_count": 38,
   "metadata": {},
   "outputs": [
    {
     "name": "stdout",
     "output_type": "stream",
     "text": [
      "                                               title  \\\n",
      "0  MOSFET table look-up models for circuit simula...   \n",
      "1  The verification of the protection mechanisms ...   \n",
      "2  Another view of functional and multivalued dep...   \n",
      "3     Entity-relationship diagrams which are in BCNF   \n",
      "4                          The computer comes of age   \n",
      "\n",
      "                                             authors  year  \\\n",
      "0                                                NaN  1984   \n",
      "1                                   Virgil D. Gligor  1984   \n",
      "2                           M. Gyssens, J. Paredaens  1984   \n",
      "3  Sushil Jajodia, Peter A. Ng, Frederick N. Spri...  1984   \n",
      "4                                        Rene Moreau  1984   \n",
      "\n",
      "                                           venue    ind  ref abstract  \n",
      "0                  Integration, the VLSI Journal  ndex1  NaN      NaN  \n",
      "1  International Journal of Parallel Programming  ndex2  NaN      NaN  \n",
      "2  International Journal of Parallel Programming  ndex3  NaN      NaN  \n",
      "3  International Journal of Parallel Programming  ndex4  NaN      NaN  \n",
      "4                      The computer comes of age  ndex5  NaN      NaN  \n"
     ]
    }
   ],
   "source": [
    "# Goal: figure out what topics received the most citations in a given year\n",
    "import pandas as pd\n",
    "import numpy as np\n",
    "\n",
    "# Open the data\n",
    "data_str = open('acm1st10000.txt',errors='ignore').read()\n",
    "# data_str = open('C:\\\\Users\\\\Ryan\\\\Documents\\\\Ohio State\\\\8th Semester\\\\ECE 4194.02\\\\acm.txt', errors='ignore').read()\n",
    "data_list = data_str.splitlines()\n",
    "\n",
    "#for i in range(10):\n",
    " #   print(data_list[i])\n",
    "\n",
    "# Create the dataframe\n",
    "    # title: (string -- should be bag of words vector)\n",
    "    # authors: (list)\n",
    "    # year: publishing year (int)\n",
    "    # venue: journal the paper was published in (string)\n",
    "    # ind: numeric label/index of this paper (int)\n",
    "    # ref_indces: identification index of the papers that referenced this paper (string)\n",
    "    # abstract: (string -- should be bag of words vector ?)\n",
    "names = ['title', 'authors', 'year', 'venue', 'ind', 'ref', 'abstract']\n",
    "empty_row = pd.DataFrame(columns=names)\n",
    "df = pd.DataFrame(columns=names)\n",
    "\n",
    "i_df = 0\n",
    "for i, val in enumerate(data_list):\n",
    "    if not val:\n",
    "        df = df.append(empty_row)\n",
    "        i_df += 1\n",
    "    if data_list[i].startswith('#*'):\n",
    "        df.at[i_df,'title'] = val[2:]\n",
    "    if data_list[i].startswith('#@'):\n",
    "        df.at[i_df,'authors'] = val[2:]\n",
    "    if data_list[i].startswith('#t'):\n",
    "        df.at[i_df,'year'] = val[2:]\n",
    "    if data_list[i].startswith('#c'):\n",
    "        df.at[i_df,'venue'] = val[2:]\n",
    "    if data_list[i].startswith('#index'):\n",
    "        df.at[i_df,'ind'] = val[2:]\n",
    "    if data_list[i].startswith('#%'):\n",
    "        # If the data_list[i - 1] exists (necessary? Probably not)\n",
    "            # If data_list[i - 1] didn't start with #%\n",
    "                # Reset number of citations counter\n",
    "        df.at[i_df,'ref'] = val[2:]\n",
    "        # If i is not the end of the file\n",
    "            # If data_list[i+1] doesn't start with #%:\n",
    "                # Add the integer to the column\n",
    "            # Else:\n",
    "                # Increment the citation count\n",
    "    if data_list[i].startswith('#!'):\n",
    "        df.at[i_df,'abstract'] = val[2:]\n",
    "    \n",
    "print(df.head(5))\n",
    "    \n",
    "# T0-DO:\n",
    "# -----------------------------------------------------------\n",
    "# Force strings in dataframe that we want as ints to be ints\n",
    "# Convert the strings in dataframe to bag of words vectors \n",
    "# Make a dataframe of just 2015 papers\n",
    "\n",
    "# Account for no citations in a dataframe (if citation column is NaN, make it 0)\n",
    "# Account for no abstract (if abstract column is NaN, remove the row completely)"
   ]
  },
  {
   "cell_type": "code",
   "execution_count": 70,
   "metadata": {
    "scrolled": true
   },
   "outputs": [
    {
     "name": "stdout",
     "output_type": "stream",
     "text": [
      "5924\n"
     ]
    }
   ],
   "source": [
    "#print(df.head(5))\n",
    "newdf=df.loc[df['year'] == '1986']\n",
    "#print(newdf)\n",
    "list_85_X=newdf['title'].tolist()\n",
    "print(len(list_85))\n",
    "#print(list)"
   ]
  },
  {
   "cell_type": "code",
   "execution_count": null,
   "metadata": {},
   "outputs": [],
   "source": [
    "import nltk\n",
    "import re\n",
    "nltk.download('stopwords')\n",
    "from nltk.corpus import stopwords"
   ]
  },
  {
   "cell_type": "code",
   "execution_count": 72,
   "metadata": {},
   "outputs": [
    {
     "name": "stdout",
     "output_type": "stream",
     "text": [
      "['algorithm', 'analysis', 'computer', 'data', 'design', 'method', 'problem', 'problems', 'system', 'systems']\n",
      "5924\n",
      "[[0 0 0 ... 0 1 0]\n",
      " [0 0 0 ... 0 0 0]\n",
      " [0 0 0 ... 0 1 0]\n",
      " ...\n",
      " [0 0 0 ... 0 0 0]\n",
      " [0 0 0 ... 0 0 0]\n",
      " [0 0 0 ... 1 0 0]]\n"
     ]
    }
   ],
   "source": [
    "from sklearn.feature_extraction.text import CountVectorizer\n",
    "stop_words_NLTK = set(stopwords.words('english')) \n",
    "vectorizer = CountVectorizer(stop_words=stop_words_NLTK, min_df=0.01, max_df=0.9, max_features=10)\n",
    "X = vectorizer.fit_transform(list_85_X)\n",
    "print(vectorizer.get_feature_names())\n",
    "TrainingX=X.toarray()[0:len(X.toarray())-1]\n",
    "TrainingY=\n",
    "print(X.toarray())"
   ]
  },
  {
   "cell_type": "code",
   "execution_count": null,
   "metadata": {},
   "outputs": [],
   "source": []
  }
 ],
 "metadata": {
  "kernelspec": {
   "display_name": "Python 3",
   "language": "python",
   "name": "python3"
  },
  "language_info": {
   "codemirror_mode": {
    "name": "ipython",
    "version": 3
   },
   "file_extension": ".py",
   "mimetype": "text/x-python",
   "name": "python",
   "nbconvert_exporter": "python",
   "pygments_lexer": "ipython3",
   "version": "3.7.1"
  }
 },
 "nbformat": 4,
 "nbformat_minor": 2
}
